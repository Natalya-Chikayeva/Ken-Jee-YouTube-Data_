{
 "cells": [
  {
   "cell_type": "markdown",
   "id": "dea2d606",
   "metadata": {},
   "source": [
    "# Dataset \"Ken Jee YouTube Data\""
   ]
  },
  {
   "cell_type": "markdown",
   "id": "e5d6735b",
   "metadata": {},
   "source": [
    "## Introduction"
   ]
  },
  {
   "cell_type": "markdown",
   "id": "3a2d311a",
   "metadata": {},
   "source": [
    "As it well known, in modern society, blogging is one of the most popular professions around the world, it is obvious that convenient automated and modern tools should be created to analyze the reaction of viewers. Bloggers working on content are interested in questions about their current and future popularity, what videos are most in demand by viewers and in general who their viewers are.\n",
    "\n",
    "In this project, an analysis was carried out and the project \"Ken Jee YouTube Data\" was considered. The relevant data included is from Nov 2017 - Jan 2022. The data gathered via the YouTube API and the rest from my specific analytics. \n",
    "\n",
    "This report contains the following structure:\n",
    "- busines problem formulation\n",
    "- Machine Learning methods and explanation\n",
    "- results with comparison of different Machine Learning methods\n",
    "- conclusions\n",
    "- bibliogrphy/references "
   ]
  },
  {
   "cell_type": "markdown",
   "id": "8a9f6e7a",
   "metadata": {},
   "source": [
    "## Problem formulation"
   ]
  },
  {
   "cell_type": "markdown",
   "id": "fe35cdf8",
   "metadata": {},
   "source": [
    "In this project, the main analysis will be based on this dataset:\n",
    "\n",
    "**Aggregated Metrics By Video** - This has all the topline metrics from channel https://www.youtube.com/c/KenJee1 from its start. \n",
    "\n",
    "The main objective of this project will be to build a Machine Learning algorithms to predict the number of new subscribers gained.\n",
    "\n",
    "Building a model for predicting the number of new subscribers on the channel (Label \"Subscribers gained\") will be based on the analysis and relationship of the following features:\n",
    "\n",
    "- impressions,\n",
    "- subscribers,\n",
    "- watch time,\n",
    "- likes,\n",
    "- comments\n",
    "affect the label\"new subscribers gained per video\"\n",
    "\n",
    "For this report, the most appropriate and relevant features have been selected so that the analysis is most productive.\n",
    "\n",
    "Solving the Machine Learning problem of predicting the number of new subscribers will be nothing more than a **regression problem**. Solving such problems is quite popular today on any blogging platforms, including YouTube and other social networks.\n",
    "\n",
    "Dataset and content information taken from the site by Ken Jee:\n",
    "https://www.kaggle.com/datasets/kenjee/ken-jee-youtube-data?select=Aggregated_Metrics_By_Video.csv"
   ]
  },
  {
   "cell_type": "markdown",
   "id": "c46cc84f",
   "metadata": {},
   "source": [
    "## Machine Learning methods and explanation"
   ]
  },
  {
   "cell_type": "markdown",
   "id": "a2f3ae5f",
   "metadata": {},
   "source": [
    "#### Import Python Libraries"
   ]
  },
  {
   "cell_type": "markdown",
   "id": "9f8c0c00",
   "metadata": {},
   "source": [
    "First import the libraries to be able to call functions that needed for this prject. In this project the most useful libraries are:\n",
    "\n",
    "- **pandas** library which offers data structures and operations for manipulating numerical tables and time series\n",
    "- **numpy** library which a wide variety of mathematical operations on arrays\n",
    "- **sklearn** library which provides many unsupervised and supervised learning algorithms\n",
    "- **math** library is a component of a programming language's standard library containing functions (or subroutines) for the most common mathematical functions\n",
    "- **seaborn** for data visualization"
   ]
  },
  {
   "cell_type": "code",
   "execution_count": 1,
   "id": "f4f091f2",
   "metadata": {},
   "outputs": [],
   "source": [
    "import pandas as pd\n",
    "import numpy as np\n",
    "\n",
    "import sklearn.model_selection \n",
    "import sklearn.tree \n",
    "from sklearn.metrics import r2_score, mean_squared_error, mean_absolute_error \n",
    "\n",
    "import math\n",
    "from scipy import stats\n",
    "\n",
    "import seaborn as sns"
   ]
  },
  {
   "cell_type": "markdown",
   "id": "d7e8c9fe",
   "metadata": {},
   "source": [
    "#### Import all datasets and short characteristics"
   ]
  },
  {
   "cell_type": "markdown",
   "id": "a78cc68c",
   "metadata": {},
   "source": [
    "The dataset from Kaggle is presented in the .csv format. Firstly, a read .csv file is performed in Jupyter to briefly look at the dataset"
   ]
  },
  {
   "cell_type": "code",
   "execution_count": 2,
   "id": "d7f2beaf",
   "metadata": {
    "scrolled": true
   },
   "outputs": [
    {
     "data": {
      "text/html": [
       "<div>\n",
       "<style scoped>\n",
       "    .dataframe tbody tr th:only-of-type {\n",
       "        vertical-align: middle;\n",
       "    }\n",
       "\n",
       "    .dataframe tbody tr th {\n",
       "        vertical-align: top;\n",
       "    }\n",
       "\n",
       "    .dataframe thead th {\n",
       "        text-align: right;\n",
       "    }\n",
       "</style>\n",
       "<table border=\"1\" class=\"dataframe\">\n",
       "  <thead>\n",
       "    <tr style=\"text-align: right;\">\n",
       "      <th></th>\n",
       "      <th>Video</th>\n",
       "      <th>Video title</th>\n",
       "      <th>Video pub­lish time</th>\n",
       "      <th>Com­ments ad­ded</th>\n",
       "      <th>Shares</th>\n",
       "      <th>Dis­likes</th>\n",
       "      <th>Likes</th>\n",
       "      <th>Sub­scribers lost</th>\n",
       "      <th>Sub­scribers gained</th>\n",
       "      <th>RPM (USD)</th>\n",
       "      <th>CPM (USD)</th>\n",
       "      <th>Av­er­age per­cent­age viewed (%)</th>\n",
       "      <th>Av­er­age view dur­a­tion</th>\n",
       "      <th>Views</th>\n",
       "      <th>Watch time (hours)</th>\n",
       "      <th>Sub­scribers</th>\n",
       "      <th>Your es­tim­ated rev­en­ue (USD)</th>\n",
       "      <th>Im­pres­sions</th>\n",
       "      <th>Im­pres­sions click-through rate (%)</th>\n",
       "    </tr>\n",
       "  </thead>\n",
       "  <tbody>\n",
       "    <tr>\n",
       "      <th>0</th>\n",
       "      <td>Total</td>\n",
       "      <td>NaN</td>\n",
       "      <td>NaN</td>\n",
       "      <td>14197</td>\n",
       "      <td>39640</td>\n",
       "      <td>3902</td>\n",
       "      <td>225021</td>\n",
       "      <td>45790</td>\n",
       "      <td>229241</td>\n",
       "      <td>5.276</td>\n",
       "      <td>11.990</td>\n",
       "      <td>26.61</td>\n",
       "      <td>0:03:25</td>\n",
       "      <td>5568487</td>\n",
       "      <td>317602.3536</td>\n",
       "      <td>183451</td>\n",
       "      <td>29068.652</td>\n",
       "      <td>100954064</td>\n",
       "      <td>3.16</td>\n",
       "    </tr>\n",
       "    <tr>\n",
       "      <th>1</th>\n",
       "      <td>4OZip0cgOho</td>\n",
       "      <td>How I Would Learn Data Science (If I Had to St...</td>\n",
       "      <td>May 8, 2020</td>\n",
       "      <td>907</td>\n",
       "      <td>9583</td>\n",
       "      <td>942</td>\n",
       "      <td>46903</td>\n",
       "      <td>451</td>\n",
       "      <td>46904</td>\n",
       "      <td>6.353</td>\n",
       "      <td>12.835</td>\n",
       "      <td>36.65</td>\n",
       "      <td>0:03:09</td>\n",
       "      <td>1253559</td>\n",
       "      <td>65850.7042</td>\n",
       "      <td>46453</td>\n",
       "      <td>7959.533</td>\n",
       "      <td>26498799</td>\n",
       "      <td>3.14</td>\n",
       "    </tr>\n",
       "    <tr>\n",
       "      <th>2</th>\n",
       "      <td>78LjdAAw0wA</td>\n",
       "      <td>100K Channel Update + AMA Stream!</td>\n",
       "      <td>Nov 12, 2020</td>\n",
       "      <td>412</td>\n",
       "      <td>4</td>\n",
       "      <td>4</td>\n",
       "      <td>130</td>\n",
       "      <td>15</td>\n",
       "      <td>12</td>\n",
       "      <td>2.668</td>\n",
       "      <td>6.259</td>\n",
       "      <td>6.26</td>\n",
       "      <td>0:05:14</td>\n",
       "      <td>2291</td>\n",
       "      <td>200.2966</td>\n",
       "      <td>-3</td>\n",
       "      <td>6.113</td>\n",
       "      <td>188318</td>\n",
       "      <td>0.72</td>\n",
       "    </tr>\n",
       "    <tr>\n",
       "      <th>3</th>\n",
       "      <td>hO_YKK_0Qck</td>\n",
       "      <td>Uber Driver to Machine Learning Engineer in 9 ...</td>\n",
       "      <td>Jul 16, 2020</td>\n",
       "      <td>402</td>\n",
       "      <td>152</td>\n",
       "      <td>15</td>\n",
       "      <td>881</td>\n",
       "      <td>9</td>\n",
       "      <td>198</td>\n",
       "      <td>9.516</td>\n",
       "      <td>11.695</td>\n",
       "      <td>15.12</td>\n",
       "      <td>0:10:21</td>\n",
       "      <td>21350</td>\n",
       "      <td>3687.3387</td>\n",
       "      <td>189</td>\n",
       "      <td>202.963</td>\n",
       "      <td>442334</td>\n",
       "      <td>2.53</td>\n",
       "    </tr>\n",
       "    <tr>\n",
       "      <th>4</th>\n",
       "      <td>uXLnbdHMf8w</td>\n",
       "      <td>Why I'm Starting Data Science Over Again.</td>\n",
       "      <td>Aug 29, 2020</td>\n",
       "      <td>375</td>\n",
       "      <td>367</td>\n",
       "      <td>22</td>\n",
       "      <td>2622</td>\n",
       "      <td>40</td>\n",
       "      <td>1957</td>\n",
       "      <td>3.143</td>\n",
       "      <td>7.943</td>\n",
       "      <td>33.41</td>\n",
       "      <td>0:02:36</td>\n",
       "      <td>49564</td>\n",
       "      <td>2148.3110</td>\n",
       "      <td>1917</td>\n",
       "      <td>155.779</td>\n",
       "      <td>521185</td>\n",
       "      <td>4.01</td>\n",
       "    </tr>\n",
       "  </tbody>\n",
       "</table>\n",
       "</div>"
      ],
      "text/plain": [
       "         Video                                        Video title  \\\n",
       "0        Total                                                NaN   \n",
       "1  4OZip0cgOho  How I Would Learn Data Science (If I Had to St...   \n",
       "2  78LjdAAw0wA                  100K Channel Update + AMA Stream!   \n",
       "3  hO_YKK_0Qck  Uber Driver to Machine Learning Engineer in 9 ...   \n",
       "4  uXLnbdHMf8w          Why I'm Starting Data Science Over Again.   \n",
       "\n",
       "  Video pub­lish time  Com­ments ad­ded  Shares  Dis­likes   Likes  \\\n",
       "0                 NaN             14197   39640       3902  225021   \n",
       "1         May 8, 2020               907    9583        942   46903   \n",
       "2        Nov 12, 2020               412       4          4     130   \n",
       "3        Jul 16, 2020               402     152         15     881   \n",
       "4        Aug 29, 2020               375     367         22    2622   \n",
       "\n",
       "   Sub­scribers lost  Sub­scribers gained  RPM (USD)  CPM (USD)  \\\n",
       "0              45790               229241      5.276     11.990   \n",
       "1                451                46904      6.353     12.835   \n",
       "2                 15                   12      2.668      6.259   \n",
       "3                  9                  198      9.516     11.695   \n",
       "4                 40                 1957      3.143      7.943   \n",
       "\n",
       "   Av­er­age per­cent­age viewed (%) Av­er­age view dur­a­tion    Views  \\\n",
       "0                              26.61                   0:03:25  5568487   \n",
       "1                              36.65                   0:03:09  1253559   \n",
       "2                               6.26                   0:05:14     2291   \n",
       "3                              15.12                   0:10:21    21350   \n",
       "4                              33.41                   0:02:36    49564   \n",
       "\n",
       "   Watch time (hours)  Sub­scribers  Your es­tim­ated rev­en­ue (USD)  \\\n",
       "0         317602.3536        183451                         29068.652   \n",
       "1          65850.7042         46453                          7959.533   \n",
       "2            200.2966            -3                             6.113   \n",
       "3           3687.3387           189                           202.963   \n",
       "4           2148.3110          1917                           155.779   \n",
       "\n",
       "   Im­pres­sions  Im­pres­sions click-through rate (%)  \n",
       "0      100954064                                  3.16  \n",
       "1       26498799                                  3.14  \n",
       "2         188318                                  0.72  \n",
       "3         442334                                  2.53  \n",
       "4         521185                                  4.01  "
      ]
     },
     "execution_count": 2,
     "metadata": {},
     "output_type": "execute_result"
    }
   ],
   "source": [
    "df = pd.read_csv(\"Aggregated_Metrics_By_Video.csv\")\n",
    "df.head()"
   ]
  },
  {
   "cell_type": "markdown",
   "id": "24db3478",
   "metadata": {},
   "source": [
    "To understand the volume of dataset, display information on the size of table, using the *.shape()* method"
   ]
  },
  {
   "cell_type": "code",
   "execution_count": 3,
   "id": "96b29bcb",
   "metadata": {},
   "outputs": [
    {
     "name": "stdout",
     "output_type": "stream",
     "text": [
      "The volume of table is:  (224, 19)\n"
     ]
    }
   ],
   "source": [
    "print (\"The volume of table is: \", df.shape)"
   ]
  },
  {
   "cell_type": "markdown",
   "id": "20f5f2cf",
   "metadata": {},
   "source": [
    "To understand the list of headers for dataset (its contents according to the column names), display information on the names of the columns in table, using the *.info()* method"
   ]
  },
  {
   "cell_type": "code",
   "execution_count": 4,
   "id": "3e1f215f",
   "metadata": {},
   "outputs": [
    {
     "name": "stdout",
     "output_type": "stream",
     "text": [
      "<class 'pandas.core.frame.DataFrame'>\n",
      "RangeIndex: 224 entries, 0 to 223\n",
      "Data columns (total 19 columns):\n",
      " #   Column                                Non-Null Count  Dtype  \n",
      "---  ------                                --------------  -----  \n",
      " 0   Video                                 224 non-null    object \n",
      " 1   Video title                           223 non-null    object \n",
      " 2   Video pub­lish time                   223 non-null    object \n",
      " 3   Com­ments ad­ded                      224 non-null    int64  \n",
      " 4   Shares                                224 non-null    int64  \n",
      " 5   Dis­likes                             224 non-null    int64  \n",
      " 6   Likes                                 224 non-null    int64  \n",
      " 7   Sub­scribers lost                     224 non-null    int64  \n",
      " 8   Sub­scribers gained                   224 non-null    int64  \n",
      " 9   RPM (USD)                             224 non-null    float64\n",
      " 10  CPM (USD)                             222 non-null    float64\n",
      " 11  Av­er­age per­cent­age viewed (%)     224 non-null    float64\n",
      " 12  Av­er­age view dur­a­tion             224 non-null    object \n",
      " 13  Views                                 224 non-null    int64  \n",
      " 14  Watch time (hours)                    224 non-null    float64\n",
      " 15  Sub­scribers                          224 non-null    int64  \n",
      " 16  Your es­tim­ated rev­en­ue (USD)      224 non-null    float64\n",
      " 17  Im­pres­sions                         224 non-null    int64  \n",
      " 18  Im­pres­sions click-through rate (%)  224 non-null    float64\n",
      "dtypes: float64(6), int64(9), object(4)\n",
      "memory usage: 33.4+ KB\n"
     ]
    }
   ],
   "source": [
    "df.info()"
   ]
  },
  {
   "cell_type": "markdown",
   "id": "f5f48df6",
   "metadata": {},
   "source": [
    "In information above clearly seen that in some columns the number of Non-Null vales different from other data. This indicates that there is missing data in the dataset that needs to be corrected. Subsequent adjustment, removal and clearing of all null and incorrect data will be carried out in the following parts of this report.\n",
    "\n",
    "Moreover, from the information reflected above, it is clear that many features are not related in meaning to the target variable \"Subscribers gained\". Therefore, to build a future more correct and correct model, we need to exclude everything superfluous from the dataset and leave only features that logically affect the result."
   ]
  },
  {
   "cell_type": "code",
   "execution_count": 5,
   "id": "c16ca8a8",
   "metadata": {},
   "outputs": [],
   "source": [
    "relevant_values = ['Im­pres­sions', 'Sub­scribers', 'Watch time (hours)', 'Likes', 'Com­ments ad­ded', 'Sub­scribers gained']\n",
    "df = df[relevant_values]"
   ]
  },
  {
   "cell_type": "markdown",
   "id": "d1ab9277",
   "metadata": {},
   "source": [
    "Function *.describe()* is used to view some general statistical information (percentile, mean, max, min, std, etc.). Here included only final information, which can give some statistic picture. "
   ]
  },
  {
   "cell_type": "code",
   "execution_count": 6,
   "id": "1bfaf976",
   "metadata": {},
   "outputs": [
    {
     "data": {
      "text/html": [
       "<div>\n",
       "<style scoped>\n",
       "    .dataframe tbody tr th:only-of-type {\n",
       "        vertical-align: middle;\n",
       "    }\n",
       "\n",
       "    .dataframe tbody tr th {\n",
       "        vertical-align: top;\n",
       "    }\n",
       "\n",
       "    .dataframe thead th {\n",
       "        text-align: right;\n",
       "    }\n",
       "</style>\n",
       "<table border=\"1\" class=\"dataframe\">\n",
       "  <thead>\n",
       "    <tr style=\"text-align: right;\">\n",
       "      <th></th>\n",
       "      <th>Im­pres­sions</th>\n",
       "      <th>Sub­scribers</th>\n",
       "      <th>Watch time (hours)</th>\n",
       "      <th>Likes</th>\n",
       "      <th>Com­ments ad­ded</th>\n",
       "      <th>Sub­scribers gained</th>\n",
       "    </tr>\n",
       "  </thead>\n",
       "  <tbody>\n",
       "    <tr>\n",
       "      <th>count</th>\n",
       "      <td>224.0</td>\n",
       "      <td>224.0</td>\n",
       "      <td>224.0</td>\n",
       "      <td>224.0</td>\n",
       "      <td>224.0</td>\n",
       "      <td>224.0</td>\n",
       "    </tr>\n",
       "    <tr>\n",
       "      <th>mean</th>\n",
       "      <td>901357.3</td>\n",
       "      <td>1390.5</td>\n",
       "      <td>2835.7</td>\n",
       "      <td>2008.9</td>\n",
       "      <td>126.8</td>\n",
       "      <td>1608.1</td>\n",
       "    </tr>\n",
       "    <tr>\n",
       "      <th>std</th>\n",
       "      <td>6967916.1</td>\n",
       "      <td>12647.2</td>\n",
       "      <td>21662.6</td>\n",
       "      <td>15387.3</td>\n",
       "      <td>948.7</td>\n",
       "      <td>15628.8</td>\n",
       "    </tr>\n",
       "    <tr>\n",
       "      <th>min</th>\n",
       "      <td>365.0</td>\n",
       "      <td>-21.0</td>\n",
       "      <td>1.1</td>\n",
       "      <td>1.0</td>\n",
       "      <td>0.0</td>\n",
       "      <td>0.0</td>\n",
       "    </tr>\n",
       "    <tr>\n",
       "      <th>25%</th>\n",
       "      <td>99471.0</td>\n",
       "      <td>19.8</td>\n",
       "      <td>177.0</td>\n",
       "      <td>163.5</td>\n",
       "      <td>18.0</td>\n",
       "      <td>27.0</td>\n",
       "    </tr>\n",
       "    <tr>\n",
       "      <th>50%</th>\n",
       "      <td>154192.5</td>\n",
       "      <td>62.5</td>\n",
       "      <td>397.9</td>\n",
       "      <td>342.5</td>\n",
       "      <td>37.0</td>\n",
       "      <td>70.0</td>\n",
       "    </tr>\n",
       "    <tr>\n",
       "      <th>75%</th>\n",
       "      <td>289488.5</td>\n",
       "      <td>230.5</td>\n",
       "      <td>1145.6</td>\n",
       "      <td>716.0</td>\n",
       "      <td>66.2</td>\n",
       "      <td>245.5</td>\n",
       "    </tr>\n",
       "    <tr>\n",
       "      <th>max</th>\n",
       "      <td>100954064.0</td>\n",
       "      <td>183451.0</td>\n",
       "      <td>317602.4</td>\n",
       "      <td>225021.0</td>\n",
       "      <td>14197.0</td>\n",
       "      <td>229241.0</td>\n",
       "    </tr>\n",
       "  </tbody>\n",
       "</table>\n",
       "</div>"
      ],
      "text/plain": [
       "       Im­pres­sions  Sub­scribers  Watch time (hours)     Likes  \\\n",
       "count          224.0         224.0               224.0     224.0   \n",
       "mean        901357.3        1390.5              2835.7    2008.9   \n",
       "std        6967916.1       12647.2             21662.6   15387.3   \n",
       "min            365.0         -21.0                 1.1       1.0   \n",
       "25%          99471.0          19.8               177.0     163.5   \n",
       "50%         154192.5          62.5               397.9     342.5   \n",
       "75%         289488.5         230.5              1145.6     716.0   \n",
       "max      100954064.0      183451.0            317602.4  225021.0   \n",
       "\n",
       "       Com­ments ad­ded  Sub­scribers gained  \n",
       "count             224.0                224.0  \n",
       "mean              126.8               1608.1  \n",
       "std               948.7              15628.8  \n",
       "min                 0.0                  0.0  \n",
       "25%                18.0                 27.0  \n",
       "50%                37.0                 70.0  \n",
       "75%                66.2                245.5  \n",
       "max             14197.0             229241.0  "
      ]
     },
     "execution_count": 6,
     "metadata": {},
     "output_type": "execute_result"
    }
   ],
   "source": [
    "df.describe().round(1)"
   ]
  },
  {
   "cell_type": "markdown",
   "id": "64c82315",
   "metadata": {},
   "source": [
    "In the resulting statistics, need to pay attention to next insights:\n",
    "\n",
    "1. Information about Im­pres­sions about video is:\n",
    "- minimum is 365\n",
    "- maximum  is 100954064\n",
    "- mean  is 901357\n",
    "\n",
    "2. Information about Subscribers:\n",
    "- minimum number of Subscribers per video is -21 (\"minus\" may mean unsubscribing from the channel while watching the video)\n",
    "- maximum number of Subscribers per video is 183451\n",
    "- mean number of 1390 is 41085\n",
    "\n",
    "3. Information about number of new subscribers gained per video:\n",
    "- minimum number of new subscribers is 0\n",
    "- maximum number of new subscribers is 229241\n",
    "- mean number of new subscribers is 1608\n",
    "\n",
    "General observations - in the line with the maximum values, the numbers are noticeably higher than 75%, which may indicate the presence of sharply different values, that are out of the overall average picture. Therefore, work needs to be done **to handle the outliers** so that future model building is based on more average values and there are no such sharp spreads that can harm the machine learning model"
   ]
  },
  {
   "cell_type": "code",
   "execution_count": 7,
   "id": "be693a5a",
   "metadata": {},
   "outputs": [
    {
     "data": {
      "text/plain": [
       "(222, 6)"
      ]
     },
     "execution_count": 7,
     "metadata": {},
     "output_type": "execute_result"
    }
   ],
   "source": [
    "def drop_numerical_outliers(df, z_thresh=3):\n",
    "    constrains = df.select_dtypes(include=[np.number]) \\\n",
    "        .apply(lambda x: np.abs(stats.zscore(x)) < z_thresh) \\\n",
    "        .all(axis=1)\n",
    "    df.drop(df.index[~constrains], inplace=True)\n",
    "    \n",
    "drop_numerical_outliers(df)\n",
    "df.shape"
   ]
  },
  {
   "cell_type": "markdown",
   "id": "ddd47b96",
   "metadata": {},
   "source": [
    "After removing the outlayers, the data can be visualized and see the presence of any relationships between the variables"
   ]
  },
  {
   "cell_type": "code",
   "execution_count": 8,
   "id": "587fd97f",
   "metadata": {},
   "outputs": [
    {
     "data": {
      "text/plain": [
       "<seaborn.axisgrid.PairGrid at 0x7f8a6711c4c0>"
      ]
     },
     "execution_count": 8,
     "metadata": {},
     "output_type": "execute_result"
    },
    {
     "data": {
      "image/png": "[encoded data removed]",
      "text/plain": [
       "<Figure size 1080x1080 with 42 Axes>"
      ]
     },
     "metadata": {
      "needs_background": "light"
     },
     "output_type": "display_data"
    }
   ],
   "source": [
    "sns.pairplot(df)"
   ]
  },
  {
   "cell_type": "markdown",
   "id": "17d735d5",
   "metadata": {},
   "source": [
    "If pay attention to the relationships between the most correlated variables, then a linear relationship between the values is very clearly visible. Therefore, the most appropriate machine learning algorithms for solving this problem would be Linear Regression and Decision Tree regressor. "
   ]
  },
  {
   "cell_type": "markdown",
   "id": "b9e0fd0f",
   "metadata": {},
   "source": [
    "#### Splitting the data into training and test sets"
   ]
  },
  {
   "cell_type": "markdown",
   "id": "6a5288f8",
   "metadata": {},
   "source": [
    "Before cleaning the data it is nessesary to split the data to test and train datasets, so that when training the model, data that has been removed or built artificially is not taken into account"
   ]
  },
  {
   "cell_type": "code",
   "execution_count": 9,
   "id": "a495e55d",
   "metadata": {},
   "outputs": [
    {
     "name": "stdout",
     "output_type": "stream",
     "text": [
      "df_train: (166, 6)\n",
      "df_test: (56, 6)\n"
     ]
    }
   ],
   "source": [
    "df_train, df_test = sklearn.model_selection.train_test_split(df)\n",
    "print(\"df_train:\", df_train.shape)\n",
    "print(\"df_test:\", df_test.shape)"
   ]
  },
  {
   "cell_type": "markdown",
   "id": "f397788d",
   "metadata": {},
   "source": [
    "The data is separated and using the *shape()* method we can see the volume of new sets. Further, for data processing and further model building, we will use the training set. We will not use the original table, in order to the data in it should not be changed.\n",
    "\n",
    "We divided the test and training datasets into a standard size. Since the overall dataset is relatively small, it makes no sense to define any other size forcibly"
   ]
  },
  {
   "cell_type": "markdown",
   "id": "f0873b8b",
   "metadata": {},
   "source": [
    "#### Removing missing values"
   ]
  },
  {
   "cell_type": "markdown",
   "id": "06e0938e",
   "metadata": {},
   "source": [
    "The need to remove null indicators was previously identified, so we will all rows, which contain null elements, using the dropna() method"
   ]
  },
  {
   "cell_type": "code",
   "execution_count": 10,
   "id": "b34ce816",
   "metadata": {},
   "outputs": [
    {
     "name": "stdout",
     "output_type": "stream",
     "text": [
      "df_train_cleaned: (166, 6)\n",
      "df_test_cleaned: (56, 6)\n"
     ]
    }
   ],
   "source": [
    "df_train_cleaned = df_train.dropna()\n",
    "print(\"df_train_cleaned:\", df_train_cleaned.shape)\n",
    "\n",
    "df_test_cleaned = df_test.dropna()\n",
    "print(\"df_test_cleaned:\", df_test_cleaned.shape)"
   ]
  },
  {
   "cell_type": "markdown",
   "id": "cef21b9e",
   "metadata": {},
   "source": [
    "Removing missing values process completed"
   ]
  },
  {
   "cell_type": "markdown",
   "id": "411764e9",
   "metadata": {},
   "source": [
    "#### Splitting Features and the Target Labe"
   ]
  },
  {
   "cell_type": "markdown",
   "id": "2998357e",
   "metadata": {},
   "source": [
    "When separating features and the target Label, we select the \"Subscribers gained\" column as the target, and the rest of the features are all, except for the \"Sub­scribers gained\" column"
   ]
  },
  {
   "cell_type": "code",
   "execution_count": 11,
   "id": "65241393",
   "metadata": {},
   "outputs": [
    {
     "name": "stdout",
     "output_type": "stream",
     "text": [
      "x_train: (166, 5)\n",
      "y_train: (166,)\n",
      "x_test: (56, 5)\n",
      "y_test: (56,)\n"
     ]
    }
   ],
   "source": [
    "x_train = df_train_cleaned.drop(['Sub­scribers gained'], axis=1)\n",
    "y_train = df_train_cleaned['Sub­scribers gained']\n",
    "print(\"x_train:\", x_train.shape)\n",
    "print(\"y_train:\", y_train.shape)\n",
    "\n",
    "x_test = df_test_cleaned.drop(['Sub­scribers gained'], axis=1)\n",
    "y_test = df_test_cleaned['Sub­scribers gained']\n",
    "print(\"x_test:\", x_test.shape)\n",
    "print(\"y_test:\", y_test.shape)"
   ]
  },
  {
   "cell_type": "markdown",
   "id": "fa26f7af",
   "metadata": {},
   "source": [
    "## Training a Model"
   ]
  },
  {
   "cell_type": "markdown",
   "id": "bd05d516",
   "metadata": {},
   "source": [
    "To select the best model and to avoid overfitting and underfitting, let's build two models of regression:\n",
    "\n",
    "- Linear Regression\n",
    "- Decision Tree \n",
    "\n",
    "These models were chosen because they are valid for solving the regression problem. Predictive modeling is the problem of developing a model using historical data to make a prediction on new data. It is just required to complete our business task. "
   ]
  },
  {
   "cell_type": "markdown",
   "id": "2c3b033c",
   "metadata": {},
   "source": [
    "##### LinearRegression"
   ]
  },
  {
   "cell_type": "markdown",
   "id": "4d06cbf7",
   "metadata": {},
   "source": [
    "Regression is an algorithm for modeling a target variable based on independent predictions. This algorithm is used to predict and find cause and effect relationships between variables. Implement the model with sklearn.linear_model.LinearRegression function"
   ]
  },
  {
   "cell_type": "code",
   "execution_count": 13,
   "id": "fc10225a",
   "metadata": {},
   "outputs": [
    {
     "name": "stdout",
     "output_type": "stream",
     "text": [
      "Best found hyperparameters of decision tree classifier = {'fit_intercept': True, 'normalize': True}\n"
     ]
    }
   ],
   "source": [
    "parameters_grid = {\n",
    "              \"fit_intercept\": [True, False],\n",
    "              \"normalize\": [True, False]\n",
    "}\n",
    "model = sklearn.model_selection.GridSearchCV(sklearn.linear_model.LinearRegression(),\n",
    "                                              parameters_grid, cv = 2, n_jobs=-1)\n",
    "model.fit(x_train, y_train)\n",
    "\n",
    "print (\"Best found hyperparameters of decision tree classifier = {}\".format(model.best_params_))"
   ]
  },
  {
   "cell_type": "markdown",
   "id": "fe5a6e14",
   "metadata": {},
   "source": [
    "##### Decision Tree"
   ]
  },
  {
   "cell_type": "markdown",
   "id": "82975834",
   "metadata": {},
   "source": [
    "Decision Trees are a type of Supervised Machine Learning where the data is continuously split according to a certain parameter. Implement the model with sklearn.tree.DecisionTreeRegressor function"
   ]
  },
  {
   "cell_type": "code",
   "execution_count": 15,
   "id": "5d8f0d97",
   "metadata": {},
   "outputs": [
    {
     "name": "stdout",
     "output_type": "stream",
     "text": [
      "Best found hyperparameters of decision tree classifier = {'max_depth': 14, 'min_samples_split': 3}\n"
     ]
    }
   ],
   "source": [
    "parameters_grid = {\n",
    "    \"max_depth\": range (1,20,1),\n",
    "    \"min_samples_split\": range(1,8,1)\n",
    "}\n",
    "model_2 = sklearn.model_selection.GridSearchCV(sklearn.tree.DecisionTreeRegressor(),\n",
    "                                              parameters_grid, cv = 2, n_jobs=-1)\n",
    "model_2.fit(x_train, y_train)\n",
    "\n",
    "print (\"Best found hyperparameters of decision tree classifier = {}\".format(model_2.best_params_))"
   ]
  },
  {
   "cell_type": "markdown",
   "id": "30f6c4d9",
   "metadata": {},
   "source": [
    "In this section of the report, we built two regression models to predict the number of subscribers for each new video. Then we need to choose the most appropriate model that will most accurately predict the target variable. For this we need to calculate and analyze regression metrics, score and loss"
   ]
  },
  {
   "cell_type": "markdown",
   "id": "1e2d53e8",
   "metadata": {},
   "source": [
    "## Model's assessment"
   ]
  },
  {
   "cell_type": "markdown",
   "id": "a323311b",
   "metadata": {},
   "source": [
    "To assess the score of each of the models and then choose the most correct one, we need to calculate the following metrics\n",
    "\n",
    "**1. Score function metrics:**\n",
    "- R-squared (R2), which is the proportion of variation in the outcome that is explained by the predictor variables. In multiple regression models, R2 corresponds to the squared correlation between the observed outcome values and the predicted values by the model. The Higher the R-squared, the better the model.\n",
    "\n",
    "**2. Loss functions for regression:**\n",
    "\n",
    "A loss function measures how well a given machine learning model fits the specific data set. Loss functions play an important role in any statistical model - they define an objective which the performance of the model is evaluated against and the parameters learned by the model are determined by minimizing a chosen loss function. There are three error metrics that are commonly used for evaluating and reporting the performance of a regression model, they are::\n",
    "- Mean Absolute Error (MAE). MAE takes the average sum of the absolute differences between the actual and the predicted values. \n",
    "- Mean Squared Error (MSE). MSE is the average of the squared differences between the actual and the predicted values. \n",
    "- Root mean square error (RMSE). RMSE is the square root of difference of true dependent variable and predicted dependent variable\n",
    "\n",
    "When choosing a model, we will need to pay attention to the model in which the above errors will be the smallest, because it is obvious that the perfect model will have errors tending to zero. \n",
    "\n",
    "Information taken from the site by Sthda: http://www.sthda.com/english/articles/38-regression-model-validation/158-regression-model-accuracy-metrics-r-square-aic-bic-cp-and-more/#:~:text=R%2Dsquared%20(R2)%2C,squared%2C%20the%20better%20the%20model.\n",
    "\n",
    "Information taken from the site by Section: https://www.section.io/engineering-education/understanding-loss-functions-in-machine-learning/"
   ]
  },
  {
   "cell_type": "markdown",
   "id": "a23c90ab",
   "metadata": {},
   "source": [
    "##### LinearRegression"
   ]
  },
  {
   "cell_type": "code",
   "execution_count": 16,
   "id": "4f3b04cc",
   "metadata": {},
   "outputs": [
    {
     "name": "stdout",
     "output_type": "stream",
     "text": [
      "r2 score of test dataset:  0.9997088870582729\n",
      "r2 score of train dataset:  0.999941232680263\n",
      "The model is not overfitted.\n",
      "MAE:  5.035038265653668\n",
      "MSE:  56.94374404511525\n",
      "RMSE:  7.546107873938409\n"
     ]
    }
   ],
   "source": [
    "y_test_predict = model.predict(x_test)\n",
    "y_train_predict = model.predict(x_train)\n",
    "test_score = r2_score(y_test, y_test_predict)\n",
    "train_score = r2_score(y_train, y_train_predict)\n",
    "\n",
    "print('r2 score of test dataset: ', test_score)\n",
    "print('r2 score of train dataset: ', train_score)\n",
    "\n",
    "if abs(test_score/train_score) > 0.8:\n",
    "    print('The model is not overfitted.')\n",
    "else:\n",
    "    print('Need to improve the model.')\n",
    "    \n",
    "y_predict = model.predict(x_test)\n",
    "\n",
    "print('MAE: ', mean_absolute_error(y_test, y_predict))\n",
    "print('MSE: ', mean_squared_error(y_test, y_predict)) \n",
    "print('RMSE: ', math.sqrt(mean_squared_error(y_test, y_predict)))"
   ]
  },
  {
   "cell_type": "markdown",
   "id": "d16ce4d2",
   "metadata": {},
   "source": [
    "#### DecisionTree"
   ]
  },
  {
   "cell_type": "code",
   "execution_count": 17,
   "id": "f4e3bca0",
   "metadata": {},
   "outputs": [
    {
     "name": "stdout",
     "output_type": "stream",
     "text": [
      "r2 score of test dataset:  0.9975501403506227\n",
      "r2 score of train dataset:  0.9968306437233735\n",
      "The model is not overfitted.\n",
      "MAE:  10.419642857142858\n",
      "MSE:  479.20982142857144\n",
      "RMSE:  21.89086159630478\n"
     ]
    }
   ],
   "source": [
    "y_test_predict_2 = model_2.predict(x_test)\n",
    "y_train_predict_2 = model_2.predict(x_train)\n",
    "test_score_2 = r2_score(y_test, y_test_predict_2)\n",
    "train_score_2 = r2_score(y_train, y_train_predict_2)\n",
    "\n",
    "print('r2 score of test dataset: ', test_score_2)\n",
    "print('r2 score of train dataset: ', train_score_2)\n",
    "\n",
    "if abs(test_score_2/train_score_2) > 0.8:\n",
    "    print('The model is not overfitted.')\n",
    "else:\n",
    "    print('Need to improve the model.')\n",
    "    \n",
    "y_predict_2 = model_2.predict(x_test)\n",
    "\n",
    "print('MAE: ', mean_absolute_error(y_test, y_predict_2))\n",
    "print('MSE: ', mean_squared_error(y_test, y_predict_2)) \n",
    "print('RMSE: ', math.sqrt(mean_squared_error(y_test, y_predict_2)))"
   ]
  },
  {
   "cell_type": "markdown",
   "id": "bb3884f2",
   "metadata": {},
   "source": [
    "## Results"
   ]
  },
  {
   "cell_type": "markdown",
   "id": "fccb2e4f",
   "metadata": {},
   "source": [
    "As a result of the evaluation of the two models, it is obvious that **the most suitable machine learning model is the Linear Regression Model**. This decision was made based on the analysis and comparison of the model evaluation metrics that were calculated in the previous section of the report.    \n",
    "\n",
    "Information about what the metrics show:\n",
    "\n",
    "**R-squared (R2)**, is a metric which shows the proportion of variation in the outcome that is explained by the predictor variables. When analyzing the results obtained, it can be seen that in the Linear Regression Model, the indicators calculated for the test and training data sets are as close as possible to each other and to unity. Such a result indicates the high performance of the model and the high predictive ability of the model and the low level of difference between the real and predicted datasets. However, the result of calculating such a metric for a Decision Tree shows a lower result.\n",
    "\n",
    "However, both models are not overfitted, the difference between real and predictive datasets is minimal.\n",
    "\n",
    "**Loss functions**, error metrics that are commonly used for evaluating and reporting the performance of a regression model. Based on the results of comparing all three calculated metrics MAE, MSE, RMSE, it is obvious that the errors made by the models are significantly lower for all metrics in the Linear Regression Model than in the Decision Tree.\n",
    "\n",
    "Based on the above information, the choice of a Linear Regression Model to predict the number of new subscribers on a YouTube channel is obvious and justified. "
   ]
  },
  {
   "cell_type": "markdown",
   "id": "8b410f9f",
   "metadata": {},
   "source": [
    "## Conclusion"
   ]
  },
  {
   "cell_type": "markdown",
   "id": "97856d65",
   "metadata": {},
   "source": [
    "In the context of this project, the following goals and results were achieved for the set business task. In order to achieve the most correct result, the following work was carried out:\n",
    "\n",
    "- The existing dataset was analyzed, where such indicators as the volume of the dataset, data quality, data types were considered and further actions were determined to bring them into a more suitable form, which involves the further use of data to build a model for predicting the number of new subscribers on the YouTube channel.\n",
    "- Given the large number of features in the original table and the presence of irrelevant features, an analysis was carried out and unnecessary data was excluded so as not to reduce the final accuracy of the Model. As a result, the dataset is cleared of irrelevant features.\n",
    "- In the subsequent study of a more compact dataset, the presence of outliers was revealed, which could eventually significantly distort the final accuracy of the Model. Because the dataset was also cleared of outliers.\n",
    "- To select the type of regression Model, visualization of the entire dataset was required, as a result of which obviously linear relationships between features and the target variable were identified, as a result of which the types of Machine Learning Models were selected to further achieve the business goal.\n",
    "- So that there are no distortions in the final model, data preprocessing was also carried out, among which the missing data were deleted. Other preprocessing techniques were not required, since the existing original dataset did not require this\n",
    "- As a result, two Regression Models were built and tested based on the available historical data on the YouTube channel\n",
    "- Both models were evaluated using regression metrics and the best model was selected\n",
    "\n",
    "In general, the dataset studied in this project made it possible to achieve the goal and build a model with relatively small losses and acceptable accuracy."
   ]
  },
  {
   "cell_type": "markdown",
   "id": "602f5648",
   "metadata": {},
   "source": [
    "## Bibliography/References"
   ]
  },
  {
   "cell_type": "markdown",
   "id": "7c88f45d",
   "metadata": {},
   "source": [
    "Ken Jee. https://www.kaggle.com/datasets/kenjee/ken-jee-youtube-data?select=Aggregated_Metrics_By_Video.csv\n",
    "\n",
    "Sthda. http://www.sthda.com/english/articles/38-regression-model-validation/158-regression-model-accuracy-metrics-r-square-aic-bic-cp-and-more/#:~:text=R%2Dsquared%20(R2)%2C,squared%2C%20the%20better%20the%20model.\n",
    "\n",
    "Section. https://www.section.io/engineering-education/understanding-loss-functions-in-machine-learning/"
   ]
  }
 ],
 "metadata": {
  "kernelspec": {
   "display_name": "Python 3 (ipykernel)",
   "language": "python",
   "name": "python3"
  },
  "language_info": {
   "codemirror_mode": {
    "name": "ipython",
    "version": 3
   },
   "file_extension": ".py",
   "mimetype": "text/x-python",
   "name": "python",
   "nbconvert_exporter": "python",
   "pygments_lexer": "ipython3",
   "version": "3.8.12"
  }
 },
 "nbformat": 4,
 "nbformat_minor": 5
}
